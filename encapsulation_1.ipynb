{
 "cells": [
  {
   "cell_type": "markdown",
   "id": "f5a45bd1-fee1-4489-91ba-743cc179dd80",
   "metadata": {},
   "source": [
    "#Q1.What is an Exception in python? Write the difference between Exception And syntax errors?\n",
    "\n",
    "an error is an issue in a program that prevent the programing from completing its task. in comprarision , an exception is a condition that interrupts the normal flow of the program.\n",
    "both error and exception are a type of runtime error.\n",
    "Errors mostly happen at compile-time like syntax error; however it can happen at runtime as well.checked exceptions can be detected at compile time."
   ]
  },
  {
   "cell_type": "markdown",
   "id": "e425495b-2a49-4404-98d1-bb7c87db4985",
   "metadata": {},
   "source": [
    "Q2. What happens when an exeption is not handled? Explain with an example in python?\n",
    "\n",
    "if the exception is not handled by an exception clause, the execption is re-raised after the finally clause has been executed.\n",
    "ex.\n",
    "try:\n",
    "    numerator = 10\n",
    "    denominator = 0\n",
    "\n",
    "    result = numerator/denominator\n",
    "\n",
    "    print(result)\n",
    "except:\n",
    "    print(\"Error: Denominator cannot be 0.\")"
   ]
  },
  {
   "cell_type": "markdown",
   "id": "4a144473-3989-4463-bb8f-08f4d39c25c5",
   "metadata": {},
   "source": [
    "Q3. Which Python statements are used to , catch and handle exceptions? Explain with an example\n",
    "\n",
    "Try and except statement are used to catch and handle execption in python.\n",
    "eg.\n",
    "try:\n",
    "    with open('file.log') as file:\n",
    "        read_data = file.read()\n",
    "except:\n",
    "    print('Could not open file.log')"
   ]
  },
  {
   "cell_type": "markdown",
   "id": "5e1c8692-2790-4f78-bd3a-825b8873ff32",
   "metadata": {},
   "source": [
    "Q4.(a). In python, \"try\" and \"else\" are used together in excption handling to specify a block of code that should be execude  if no exception occur within the 'try' block.\n",
    "\n",
    "try:\n",
    "    x=int(input(\"enter the number\"))\n",
    "    result= 10/x\n",
    "except ValueError:\n",
    "    print(\"invalid input. Please enter a valid number.\")\n",
    "except ZeroDivisionError:\n",
    "    print(\"cannot drive by zero\")\n",
    "else:\n",
    "    print(\"the result is:\" result)"
   ]
  },
  {
   "cell_type": "markdown",
   "id": "713b3668-6068-4395-9510-eb2007c68fe3",
   "metadata": {},
   "source": [
    "Q4(b).\n",
    " in python finally block is used in exception handling alnog with try  and except block the finally block allow you to define a piece of code that will always be execute , regardless of whether an exception occurred or not.\n",
    " try:\n",
    "    file=open(\"data.txt\", \"r\")\n",
    " except FileNotFoundError:\n",
    "    print(\"file not found.\")\n",
    " finally:\n",
    "    file.close()\n",
    "    \n",
    "    "
   ]
  },
  {
   "cell_type": "markdown",
   "id": "6731b754-dc89-4cc5-97ff-5140d9ae864b",
   "metadata": {},
   "source": [
    "Q5.\n",
    "In Python, custom exceptions are user-defined exception classes that inherit from the built-in Exception class or any of its subclasses. Custom exceptions allow you to create your own specific types of exceptions tailored to the needs of your program or application\n",
    "1.clarity and Readability\n",
    "2.Error Handling\n",
    "3.modularity and Maintainability\n",
    "\n",
    "class WithdrawalError(Exception):\n",
    "    def __init__(self, balance, amount):\n",
    "        self.balance = balance\n",
    "        self.amount = amount\n",
    "        self.message = f\"Insufficient balance. Cannot withdraw {amount}. Available balance: {balance}\"\n",
    "\n",
    "    def __str__(self):\n",
    "        return self.message\n",
    "\n",
    "\n",
    "def withdraw(balance, amount):\n",
    "    if amount > balance:\n",
    "        raise WithdrawalError(balance, amount)\n",
    "    else:\n",
    "        # Perform the withdrawal operation\n",
    "\n",
    "\n",
    "try:\n",
    "    account_balance = 1000\n",
    "    withdrawal_amount = 1500\n",
    "    withdraw(account_balance, withdrawal_amount)\n",
    "except WithdrawalError as e:\n",
    "    print(e)\n"
   ]
  },
  {
   "cell_type": "markdown",
   "id": "5bee8f9c-0aa3-4cd0-8e03-52260fb8fea4",
   "metadata": {},
   "source": [
    "#Q6.\n",
    "class CustomException(Exception):\n",
    "    def __init__(self, message):\n",
    "        self.message = message\n",
    "\n",
    "    def __str__(self):\n",
    "        return self.message\n",
    "\n",
    "\n",
    "def process_data(data):\n",
    "    if data is None:\n",
    "        raise CustomException(\"Invalid data. Cannot process None.\")\n",
    "\n",
    "    # Process the data\n",
    "\n",
    "\n",
    "try:\n",
    "    data = None\n",
    "    process_data(data)\n",
    "except CustomException as e:\n",
    "    print(\"An exception occurred:\", e)\n"
   ]
  }
 ],
 "metadata": {
  "kernelspec": {
   "display_name": "Python 3 (ipykernel)",
   "language": "python",
   "name": "python3"
  },
  "language_info": {
   "codemirror_mode": {
    "name": "ipython",
    "version": 3
   },
   "file_extension": ".py",
   "mimetype": "text/x-python",
   "name": "python",
   "nbconvert_exporter": "python",
   "pygments_lexer": "ipython3",
   "version": "3.10.8"
  }
 },
 "nbformat": 4,
 "nbformat_minor": 5
}
